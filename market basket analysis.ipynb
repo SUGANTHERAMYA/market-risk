{
 "cells": [
  {
   "cell_type": "code",
   "execution_count": 1,
   "metadata": {},
   "outputs": [],
   "source": [
    "# for basic operations\n",
    "import numpy as np\n",
    "import pandas as pd\n",
    "\n",
    "# for visualizations\n",
    "import matplotlib.pyplot as plt\n",
    "import squarify\n",
    "import seaborn as sns\n",
    "plt.style.use('fivethirtyeight')\n",
    "\n",
    "# for market basket analysis\n",
    "from mlxtend.preprocessing import TransactionEncoder\n",
    "from mlxtend.frequent_patterns import apriori\n",
    "from mlxtend.frequent_patterns import association_rules"
   ]
  },
  {
   "cell_type": "code",
   "execution_count": 2,
   "metadata": {},
   "outputs": [
    {
     "data": {
      "text/html": [
       "<div>\n",
       "<style scoped>\n",
       "    .dataframe tbody tr th:only-of-type {\n",
       "        vertical-align: middle;\n",
       "    }\n",
       "\n",
       "    .dataframe tbody tr th {\n",
       "        vertical-align: top;\n",
       "    }\n",
       "\n",
       "    .dataframe thead th {\n",
       "        text-align: right;\n",
       "    }\n",
       "</style>\n",
       "<table border=\"1\" class=\"dataframe\">\n",
       "  <thead>\n",
       "    <tr style=\"text-align: right;\">\n",
       "      <th></th>\n",
       "      <th>Date</th>\n",
       "      <th>Order_id</th>\n",
       "      <th>Product</th>\n",
       "    </tr>\n",
       "  </thead>\n",
       "  <tbody>\n",
       "    <tr>\n",
       "      <th>0</th>\n",
       "      <td>01-01-2018</td>\n",
       "      <td>1</td>\n",
       "      <td>yogurt</td>\n",
       "    </tr>\n",
       "    <tr>\n",
       "      <th>1</th>\n",
       "      <td>01-01-2018</td>\n",
       "      <td>1</td>\n",
       "      <td>pork</td>\n",
       "    </tr>\n",
       "    <tr>\n",
       "      <th>2</th>\n",
       "      <td>01-01-2018</td>\n",
       "      <td>1</td>\n",
       "      <td>sandwich bags</td>\n",
       "    </tr>\n",
       "    <tr>\n",
       "      <th>3</th>\n",
       "      <td>01-01-2018</td>\n",
       "      <td>1</td>\n",
       "      <td>lunch meat</td>\n",
       "    </tr>\n",
       "    <tr>\n",
       "      <th>4</th>\n",
       "      <td>01-01-2018</td>\n",
       "      <td>1</td>\n",
       "      <td>all- purpose</td>\n",
       "    </tr>\n",
       "  </tbody>\n",
       "</table>\n",
       "</div>"
      ],
      "text/plain": [
       "         Date  Order_id        Product\n",
       "0  01-01-2018         1         yogurt\n",
       "1  01-01-2018         1           pork\n",
       "2  01-01-2018         1  sandwich bags\n",
       "3  01-01-2018         1     lunch meat\n",
       "4  01-01-2018         1   all- purpose"
      ]
     },
     "execution_count": 2,
     "metadata": {},
     "output_type": "execute_result"
    }
   ],
   "source": [
    "data = pd.read_csv(\"dataset_group.csv\")\n",
    "data.head()"
   ]
  },
  {
   "cell_type": "code",
   "execution_count": 3,
   "metadata": {},
   "outputs": [
    {
     "data": {
      "text/plain": [
       "(20641, 3)"
      ]
     },
     "execution_count": 3,
     "metadata": {},
     "output_type": "execute_result"
    }
   ],
   "source": [
    "data.shape"
   ]
  },
  {
   "cell_type": "code",
   "execution_count": 4,
   "metadata": {},
   "outputs": [
    {
     "name": "stdout",
     "output_type": "stream",
     "text": [
      "<class 'pandas.core.frame.DataFrame'>\n",
      "RangeIndex: 20641 entries, 0 to 20640\n",
      "Data columns (total 3 columns):\n",
      " #   Column    Non-Null Count  Dtype \n",
      "---  ------    --------------  ----- \n",
      " 0   Date      20641 non-null  object\n",
      " 1   Order_id  20641 non-null  int64 \n",
      " 2   Product   20641 non-null  object\n",
      "dtypes: int64(1), object(2)\n",
      "memory usage: 483.9+ KB\n"
     ]
    }
   ],
   "source": [
    "data.info()"
   ]
  },
  {
   "cell_type": "code",
   "execution_count": 5,
   "metadata": {},
   "outputs": [
    {
     "data": {
      "text/html": [
       "<div>\n",
       "<style scoped>\n",
       "    .dataframe tbody tr th:only-of-type {\n",
       "        vertical-align: middle;\n",
       "    }\n",
       "\n",
       "    .dataframe tbody tr th {\n",
       "        vertical-align: top;\n",
       "    }\n",
       "\n",
       "    .dataframe thead th {\n",
       "        text-align: right;\n",
       "    }\n",
       "</style>\n",
       "<table border=\"1\" class=\"dataframe\">\n",
       "  <thead>\n",
       "    <tr style=\"text-align: right;\">\n",
       "      <th></th>\n",
       "      <th>count</th>\n",
       "      <th>unique</th>\n",
       "      <th>top</th>\n",
       "      <th>freq</th>\n",
       "      <th>mean</th>\n",
       "      <th>std</th>\n",
       "      <th>min</th>\n",
       "      <th>25%</th>\n",
       "      <th>50%</th>\n",
       "      <th>75%</th>\n",
       "      <th>max</th>\n",
       "    </tr>\n",
       "  </thead>\n",
       "  <tbody>\n",
       "    <tr>\n",
       "      <th>Date</th>\n",
       "      <td>20641</td>\n",
       "      <td>603</td>\n",
       "      <td>08-02-2019</td>\n",
       "      <td>183</td>\n",
       "      <td>NaN</td>\n",
       "      <td>NaN</td>\n",
       "      <td>NaN</td>\n",
       "      <td>NaN</td>\n",
       "      <td>NaN</td>\n",
       "      <td>NaN</td>\n",
       "      <td>NaN</td>\n",
       "    </tr>\n",
       "    <tr>\n",
       "      <th>Order_id</th>\n",
       "      <td>20641</td>\n",
       "      <td>NaN</td>\n",
       "      <td>NaN</td>\n",
       "      <td>NaN</td>\n",
       "      <td>575.986</td>\n",
       "      <td>328.557</td>\n",
       "      <td>1</td>\n",
       "      <td>292</td>\n",
       "      <td>581</td>\n",
       "      <td>862</td>\n",
       "      <td>1139</td>\n",
       "    </tr>\n",
       "    <tr>\n",
       "      <th>Product</th>\n",
       "      <td>20641</td>\n",
       "      <td>37</td>\n",
       "      <td>poultry</td>\n",
       "      <td>640</td>\n",
       "      <td>NaN</td>\n",
       "      <td>NaN</td>\n",
       "      <td>NaN</td>\n",
       "      <td>NaN</td>\n",
       "      <td>NaN</td>\n",
       "      <td>NaN</td>\n",
       "      <td>NaN</td>\n",
       "    </tr>\n",
       "  </tbody>\n",
       "</table>\n",
       "</div>"
      ],
      "text/plain": [
       "          count unique         top freq     mean      std  min  25%  50%  75%  \\\n",
       "Date      20641    603  08-02-2019  183      NaN      NaN  NaN  NaN  NaN  NaN   \n",
       "Order_id  20641    NaN         NaN  NaN  575.986  328.557    1  292  581  862   \n",
       "Product   20641     37     poultry  640      NaN      NaN  NaN  NaN  NaN  NaN   \n",
       "\n",
       "           max  \n",
       "Date       NaN  \n",
       "Order_id  1139  \n",
       "Product    NaN  "
      ]
     },
     "execution_count": 5,
     "metadata": {},
     "output_type": "execute_result"
    }
   ],
   "source": [
    "data.describe(include=\"all\").T"
   ]
  },
  {
   "cell_type": "code",
   "execution_count": 6,
   "metadata": {},
   "outputs": [
    {
     "data": {
      "text/plain": [
       "4730"
      ]
     },
     "execution_count": 6,
     "metadata": {},
     "output_type": "execute_result"
    }
   ],
   "source": [
    "data.duplicated().sum()"
   ]
  },
  {
   "cell_type": "code",
   "execution_count": 7,
   "metadata": {},
   "outputs": [
    {
     "data": {
      "text/plain": [
       "0        False\n",
       "1        False\n",
       "2        False\n",
       "3        False\n",
       "4        False\n",
       "         ...  \n",
       "20636     True\n",
       "20637    False\n",
       "20638    False\n",
       "20639    False\n",
       "20640    False\n",
       "Length: 20641, dtype: bool"
      ]
     },
     "execution_count": 7,
     "metadata": {},
     "output_type": "execute_result"
    }
   ],
   "source": [
    "data.duplicated()"
   ]
  },
  {
   "cell_type": "code",
   "execution_count": 8,
   "metadata": {},
   "outputs": [
    {
     "data": {
      "text/plain": [
       "(20641, 3)"
      ]
     },
     "execution_count": 8,
     "metadata": {},
     "output_type": "execute_result"
    }
   ],
   "source": [
    "data.shape"
   ]
  },
  {
   "cell_type": "code",
   "execution_count": 9,
   "metadata": {},
   "outputs": [],
   "source": [
    "data.to_excel(\"data.xlsx\")"
   ]
  },
  {
   "cell_type": "code",
   "execution_count": 10,
   "metadata": {},
   "outputs": [],
   "source": [
    "data['Product'] = data['Product'].str.lower()"
   ]
  },
  {
   "cell_type": "code",
   "execution_count": 11,
   "metadata": {},
   "outputs": [
    {
     "data": {
      "text/html": [
       "<div>\n",
       "<style scoped>\n",
       "    .dataframe tbody tr th:only-of-type {\n",
       "        vertical-align: middle;\n",
       "    }\n",
       "\n",
       "    .dataframe tbody tr th {\n",
       "        vertical-align: top;\n",
       "    }\n",
       "\n",
       "    .dataframe thead th {\n",
       "        text-align: right;\n",
       "    }\n",
       "</style>\n",
       "<table border=\"1\" class=\"dataframe\">\n",
       "  <thead>\n",
       "    <tr style=\"text-align: right;\">\n",
       "      <th></th>\n",
       "      <th>Date</th>\n",
       "      <th>Order_id</th>\n",
       "      <th>Product</th>\n",
       "    </tr>\n",
       "  </thead>\n",
       "  <tbody>\n",
       "    <tr>\n",
       "      <th>0</th>\n",
       "      <td>01-01-2018</td>\n",
       "      <td>1</td>\n",
       "      <td>yogurt</td>\n",
       "    </tr>\n",
       "    <tr>\n",
       "      <th>1</th>\n",
       "      <td>01-01-2018</td>\n",
       "      <td>1</td>\n",
       "      <td>pork</td>\n",
       "    </tr>\n",
       "    <tr>\n",
       "      <th>2</th>\n",
       "      <td>01-01-2018</td>\n",
       "      <td>1</td>\n",
       "      <td>sandwich bags</td>\n",
       "    </tr>\n",
       "    <tr>\n",
       "      <th>3</th>\n",
       "      <td>01-01-2018</td>\n",
       "      <td>1</td>\n",
       "      <td>lunch meat</td>\n",
       "    </tr>\n",
       "    <tr>\n",
       "      <th>4</th>\n",
       "      <td>01-01-2018</td>\n",
       "      <td>1</td>\n",
       "      <td>all- purpose</td>\n",
       "    </tr>\n",
       "  </tbody>\n",
       "</table>\n",
       "</div>"
      ],
      "text/plain": [
       "         Date  Order_id        Product\n",
       "0  01-01-2018         1         yogurt\n",
       "1  01-01-2018         1           pork\n",
       "2  01-01-2018         1  sandwich bags\n",
       "3  01-01-2018         1     lunch meat\n",
       "4  01-01-2018         1   all- purpose"
      ]
     },
     "execution_count": 11,
     "metadata": {},
     "output_type": "execute_result"
    }
   ],
   "source": [
    "data.head()"
   ]
  },
  {
   "cell_type": "code",
   "execution_count": 12,
   "metadata": {},
   "outputs": [],
   "source": [
    "data = data.drop(data[data.Product == 'none'].index)"
   ]
  },
  {
   "cell_type": "code",
   "execution_count": 13,
   "metadata": {},
   "outputs": [
    {
     "data": {
      "text/html": [
       "<div>\n",
       "<style scoped>\n",
       "    .dataframe tbody tr th:only-of-type {\n",
       "        vertical-align: middle;\n",
       "    }\n",
       "\n",
       "    .dataframe tbody tr th {\n",
       "        vertical-align: top;\n",
       "    }\n",
       "\n",
       "    .dataframe thead th {\n",
       "        text-align: right;\n",
       "    }\n",
       "</style>\n",
       "<table border=\"1\" class=\"dataframe\">\n",
       "  <thead>\n",
       "    <tr style=\"text-align: right;\">\n",
       "      <th></th>\n",
       "      <th>Date</th>\n",
       "      <th>Order_id</th>\n",
       "      <th>Product</th>\n",
       "    </tr>\n",
       "  </thead>\n",
       "  <tbody>\n",
       "    <tr>\n",
       "      <th>0</th>\n",
       "      <td>01-01-2018</td>\n",
       "      <td>1</td>\n",
       "      <td>yogurt</td>\n",
       "    </tr>\n",
       "    <tr>\n",
       "      <th>1</th>\n",
       "      <td>01-01-2018</td>\n",
       "      <td>1</td>\n",
       "      <td>pork</td>\n",
       "    </tr>\n",
       "    <tr>\n",
       "      <th>2</th>\n",
       "      <td>01-01-2018</td>\n",
       "      <td>1</td>\n",
       "      <td>sandwich bags</td>\n",
       "    </tr>\n",
       "    <tr>\n",
       "      <th>3</th>\n",
       "      <td>01-01-2018</td>\n",
       "      <td>1</td>\n",
       "      <td>lunch meat</td>\n",
       "    </tr>\n",
       "    <tr>\n",
       "      <th>4</th>\n",
       "      <td>01-01-2018</td>\n",
       "      <td>1</td>\n",
       "      <td>all- purpose</td>\n",
       "    </tr>\n",
       "    <tr>\n",
       "      <th>...</th>\n",
       "      <td>...</td>\n",
       "      <td>...</td>\n",
       "      <td>...</td>\n",
       "    </tr>\n",
       "    <tr>\n",
       "      <th>20636</th>\n",
       "      <td>25-02-2020</td>\n",
       "      <td>1138</td>\n",
       "      <td>soda</td>\n",
       "    </tr>\n",
       "    <tr>\n",
       "      <th>20637</th>\n",
       "      <td>25-02-2020</td>\n",
       "      <td>1138</td>\n",
       "      <td>paper towels</td>\n",
       "    </tr>\n",
       "    <tr>\n",
       "      <th>20638</th>\n",
       "      <td>26-02-2020</td>\n",
       "      <td>1139</td>\n",
       "      <td>soda</td>\n",
       "    </tr>\n",
       "    <tr>\n",
       "      <th>20639</th>\n",
       "      <td>26-02-2020</td>\n",
       "      <td>1139</td>\n",
       "      <td>laundry detergent</td>\n",
       "    </tr>\n",
       "    <tr>\n",
       "      <th>20640</th>\n",
       "      <td>26-02-2020</td>\n",
       "      <td>1139</td>\n",
       "      <td>shampoo</td>\n",
       "    </tr>\n",
       "  </tbody>\n",
       "</table>\n",
       "<p>20641 rows × 3 columns</p>\n",
       "</div>"
      ],
      "text/plain": [
       "             Date  Order_id            Product\n",
       "0      01-01-2018         1             yogurt\n",
       "1      01-01-2018         1               pork\n",
       "2      01-01-2018         1      sandwich bags\n",
       "3      01-01-2018         1         lunch meat\n",
       "4      01-01-2018         1       all- purpose\n",
       "...           ...       ...                ...\n",
       "20636  25-02-2020      1138               soda\n",
       "20637  25-02-2020      1138       paper towels\n",
       "20638  26-02-2020      1139               soda\n",
       "20639  26-02-2020      1139  laundry detergent\n",
       "20640  26-02-2020      1139            shampoo\n",
       "\n",
       "[20641 rows x 3 columns]"
      ]
     },
     "execution_count": 13,
     "metadata": {},
     "output_type": "execute_result"
    }
   ],
   "source": [
    "data"
   ]
  },
  {
   "cell_type": "code",
   "execution_count": 14,
   "metadata": {
    "scrolled": true
   },
   "outputs": [
    {
     "data": {
      "text/plain": [
       "Text(0.5, 1.0, 'frequency of most popular products')"
      ]
     },
     "execution_count": 14,
     "metadata": {},
     "output_type": "execute_result"
    },
    {
     "data": {
      "image/png": "[encoded data removed]",
      "text/plain": [
       "<Figure size 864x504 with 1 Axes>"
      ]
     },
     "metadata": {},
     "output_type": "display_data"
    }
   ],
   "source": [
    "data['Product'].value_counts().sort_values(ascending=False).head(20).plot(kind='bar',figsize=(12,7));\n",
    "plt.title('frequency of most popular products', fontsize = 20)"
   ]
  },
  {
   "cell_type": "code",
   "execution_count": 15,
   "metadata": {},
   "outputs": [
    {
     "data": {
      "text/plain": [
       "poultry          640\n",
       "soda             597\n",
       "cereals          591\n",
       "ice cream        579\n",
       "cheeses          578\n",
       "waffles          575\n",
       "soap             574\n",
       "lunch meat       573\n",
       "bagels           573\n",
       "eggs             570\n",
       "juice            570\n",
       "toilet paper     569\n",
       "dinner rolls     567\n",
       "aluminum foil    566\n",
       "coffee/tea       565\n",
       "Name: Product, dtype: int64"
      ]
     },
     "execution_count": 15,
     "metadata": {},
     "output_type": "execute_result"
    }
   ],
   "source": [
    "data[\"Product\"].value_counts().head(15)"
   ]
  },
  {
   "cell_type": "code",
   "execution_count": 16,
   "metadata": {},
   "outputs": [
    {
     "data": {
      "image/png": "[encoded data removed]",
      "text/plain": [
       "<Figure size 720x720 with 1 Axes>"
      ]
     },
     "metadata": {},
     "output_type": "display_data"
    }
   ],
   "source": [
    "# Pie Chart\n",
    "plt.figure(1, figsize=(10,10))\n",
    "data['Product'].value_counts().head(10).plot.pie(autopct=\"%1.1f%%\")\n",
    "plt.show()"
   ]
  },
  {
   "cell_type": "code",
   "execution_count": 17,
   "metadata": {},
   "outputs": [],
   "source": [
    "#The best-selling products and the values of these products let us draw."
   ]
  },
  {
   "cell_type": "code",
   "execution_count": 18,
   "metadata": {},
   "outputs": [],
   "source": [
    "itemNames = data['Product'].value_counts().index\n",
    "itemValues = data['Product'].value_counts().values"
   ]
  },
  {
   "cell_type": "code",
   "execution_count": 19,
   "metadata": {},
   "outputs": [
    {
     "data": {
      "image/png": "[encoded data removed]",
      "text/plain": [
       "<Figure size 864x864 with 1 Axes>"
      ]
     },
     "metadata": {},
     "output_type": "display_data"
    }
   ],
   "source": [
    "plt.figure(figsize=(12,12))\n",
    "plt.ylabel('Values', fontsize='medium')\n",
    "plt.xlabel('Items', fontsize='medium')\n",
    "plt.title('Top 5 Products')\n",
    "plt.bar(itemNames[:5],itemValues[:5], width = 0.7, color=\"pink\",linewidth=0.4)\n",
    "plt.show()"
   ]
  },
  {
   "cell_type": "code",
   "execution_count": 20,
   "metadata": {},
   "outputs": [],
   "source": [
    "data['datetime'] = pd.to_datetime(data['Date'])\n",
    "data['year'] = data['datetime'].dt.year\n",
    "data['month'] = data['datetime'].dt.month\n",
    "data['day'] = data['datetime'].dt.day\n",
    "data['weekday'] = data['datetime'].dt.weekday\n",
    "#data['hour'] = data['datetime'].dt.hour\n",
    "#data = data.drop(['Date'], axis=1)\n"
   ]
  },
  {
   "cell_type": "code",
   "execution_count": 21,
   "metadata": {},
   "outputs": [
    {
     "data": {
      "text/html": [
       "<div>\n",
       "<style scoped>\n",
       "    .dataframe tbody tr th:only-of-type {\n",
       "        vertical-align: middle;\n",
       "    }\n",
       "\n",
       "    .dataframe tbody tr th {\n",
       "        vertical-align: top;\n",
       "    }\n",
       "\n",
       "    .dataframe thead th {\n",
       "        text-align: right;\n",
       "    }\n",
       "</style>\n",
       "<table border=\"1\" class=\"dataframe\">\n",
       "  <thead>\n",
       "    <tr style=\"text-align: right;\">\n",
       "      <th></th>\n",
       "      <th>Date</th>\n",
       "      <th>Order_id</th>\n",
       "      <th>Product</th>\n",
       "      <th>datetime</th>\n",
       "      <th>year</th>\n",
       "      <th>month</th>\n",
       "      <th>day</th>\n",
       "      <th>weekday</th>\n",
       "    </tr>\n",
       "  </thead>\n",
       "  <tbody>\n",
       "    <tr>\n",
       "      <th>20626</th>\n",
       "      <td>25-02-2020</td>\n",
       "      <td>1138</td>\n",
       "      <td>yogurt</td>\n",
       "      <td>2020-02-25</td>\n",
       "      <td>2020</td>\n",
       "      <td>2</td>\n",
       "      <td>25</td>\n",
       "      <td>1</td>\n",
       "    </tr>\n",
       "    <tr>\n",
       "      <th>20627</th>\n",
       "      <td>25-02-2020</td>\n",
       "      <td>1138</td>\n",
       "      <td>beef</td>\n",
       "      <td>2020-02-25</td>\n",
       "      <td>2020</td>\n",
       "      <td>2</td>\n",
       "      <td>25</td>\n",
       "      <td>1</td>\n",
       "    </tr>\n",
       "    <tr>\n",
       "      <th>20628</th>\n",
       "      <td>25-02-2020</td>\n",
       "      <td>1138</td>\n",
       "      <td>waffles</td>\n",
       "      <td>2020-02-25</td>\n",
       "      <td>2020</td>\n",
       "      <td>2</td>\n",
       "      <td>25</td>\n",
       "      <td>1</td>\n",
       "    </tr>\n",
       "    <tr>\n",
       "      <th>20629</th>\n",
       "      <td>25-02-2020</td>\n",
       "      <td>1138</td>\n",
       "      <td>sugar</td>\n",
       "      <td>2020-02-25</td>\n",
       "      <td>2020</td>\n",
       "      <td>2</td>\n",
       "      <td>25</td>\n",
       "      <td>1</td>\n",
       "    </tr>\n",
       "    <tr>\n",
       "      <th>20630</th>\n",
       "      <td>25-02-2020</td>\n",
       "      <td>1138</td>\n",
       "      <td>spaghetti sauce</td>\n",
       "      <td>2020-02-25</td>\n",
       "      <td>2020</td>\n",
       "      <td>2</td>\n",
       "      <td>25</td>\n",
       "      <td>1</td>\n",
       "    </tr>\n",
       "    <tr>\n",
       "      <th>20631</th>\n",
       "      <td>25-02-2020</td>\n",
       "      <td>1138</td>\n",
       "      <td>all- purpose</td>\n",
       "      <td>2020-02-25</td>\n",
       "      <td>2020</td>\n",
       "      <td>2</td>\n",
       "      <td>25</td>\n",
       "      <td>1</td>\n",
       "    </tr>\n",
       "    <tr>\n",
       "      <th>20632</th>\n",
       "      <td>25-02-2020</td>\n",
       "      <td>1138</td>\n",
       "      <td>sandwich bags</td>\n",
       "      <td>2020-02-25</td>\n",
       "      <td>2020</td>\n",
       "      <td>2</td>\n",
       "      <td>25</td>\n",
       "      <td>1</td>\n",
       "    </tr>\n",
       "    <tr>\n",
       "      <th>20633</th>\n",
       "      <td>25-02-2020</td>\n",
       "      <td>1138</td>\n",
       "      <td>toilet paper</td>\n",
       "      <td>2020-02-25</td>\n",
       "      <td>2020</td>\n",
       "      <td>2</td>\n",
       "      <td>25</td>\n",
       "      <td>1</td>\n",
       "    </tr>\n",
       "    <tr>\n",
       "      <th>20634</th>\n",
       "      <td>25-02-2020</td>\n",
       "      <td>1138</td>\n",
       "      <td>soda</td>\n",
       "      <td>2020-02-25</td>\n",
       "      <td>2020</td>\n",
       "      <td>2</td>\n",
       "      <td>25</td>\n",
       "      <td>1</td>\n",
       "    </tr>\n",
       "    <tr>\n",
       "      <th>20635</th>\n",
       "      <td>25-02-2020</td>\n",
       "      <td>1138</td>\n",
       "      <td>soda</td>\n",
       "      <td>2020-02-25</td>\n",
       "      <td>2020</td>\n",
       "      <td>2</td>\n",
       "      <td>25</td>\n",
       "      <td>1</td>\n",
       "    </tr>\n",
       "    <tr>\n",
       "      <th>20636</th>\n",
       "      <td>25-02-2020</td>\n",
       "      <td>1138</td>\n",
       "      <td>soda</td>\n",
       "      <td>2020-02-25</td>\n",
       "      <td>2020</td>\n",
       "      <td>2</td>\n",
       "      <td>25</td>\n",
       "      <td>1</td>\n",
       "    </tr>\n",
       "    <tr>\n",
       "      <th>20637</th>\n",
       "      <td>25-02-2020</td>\n",
       "      <td>1138</td>\n",
       "      <td>paper towels</td>\n",
       "      <td>2020-02-25</td>\n",
       "      <td>2020</td>\n",
       "      <td>2</td>\n",
       "      <td>25</td>\n",
       "      <td>1</td>\n",
       "    </tr>\n",
       "    <tr>\n",
       "      <th>20638</th>\n",
       "      <td>26-02-2020</td>\n",
       "      <td>1139</td>\n",
       "      <td>soda</td>\n",
       "      <td>2020-02-26</td>\n",
       "      <td>2020</td>\n",
       "      <td>2</td>\n",
       "      <td>26</td>\n",
       "      <td>2</td>\n",
       "    </tr>\n",
       "    <tr>\n",
       "      <th>20639</th>\n",
       "      <td>26-02-2020</td>\n",
       "      <td>1139</td>\n",
       "      <td>laundry detergent</td>\n",
       "      <td>2020-02-26</td>\n",
       "      <td>2020</td>\n",
       "      <td>2</td>\n",
       "      <td>26</td>\n",
       "      <td>2</td>\n",
       "    </tr>\n",
       "    <tr>\n",
       "      <th>20640</th>\n",
       "      <td>26-02-2020</td>\n",
       "      <td>1139</td>\n",
       "      <td>shampoo</td>\n",
       "      <td>2020-02-26</td>\n",
       "      <td>2020</td>\n",
       "      <td>2</td>\n",
       "      <td>26</td>\n",
       "      <td>2</td>\n",
       "    </tr>\n",
       "  </tbody>\n",
       "</table>\n",
       "</div>"
      ],
      "text/plain": [
       "             Date  Order_id            Product   datetime  year  month  day  \\\n",
       "20626  25-02-2020      1138             yogurt 2020-02-25  2020      2   25   \n",
       "20627  25-02-2020      1138               beef 2020-02-25  2020      2   25   \n",
       "20628  25-02-2020      1138            waffles 2020-02-25  2020      2   25   \n",
       "20629  25-02-2020      1138              sugar 2020-02-25  2020      2   25   \n",
       "20630  25-02-2020      1138    spaghetti sauce 2020-02-25  2020      2   25   \n",
       "20631  25-02-2020      1138       all- purpose 2020-02-25  2020      2   25   \n",
       "20632  25-02-2020      1138      sandwich bags 2020-02-25  2020      2   25   \n",
       "20633  25-02-2020      1138       toilet paper 2020-02-25  2020      2   25   \n",
       "20634  25-02-2020      1138               soda 2020-02-25  2020      2   25   \n",
       "20635  25-02-2020      1138               soda 2020-02-25  2020      2   25   \n",
       "20636  25-02-2020      1138               soda 2020-02-25  2020      2   25   \n",
       "20637  25-02-2020      1138       paper towels 2020-02-25  2020      2   25   \n",
       "20638  26-02-2020      1139               soda 2020-02-26  2020      2   26   \n",
       "20639  26-02-2020      1139  laundry detergent 2020-02-26  2020      2   26   \n",
       "20640  26-02-2020      1139            shampoo 2020-02-26  2020      2   26   \n",
       "\n",
       "       weekday  \n",
       "20626        1  \n",
       "20627        1  \n",
       "20628        1  \n",
       "20629        1  \n",
       "20630        1  \n",
       "20631        1  \n",
       "20632        1  \n",
       "20633        1  \n",
       "20634        1  \n",
       "20635        1  \n",
       "20636        1  \n",
       "20637        1  \n",
       "20638        2  \n",
       "20639        2  \n",
       "20640        2  "
      ]
     },
     "execution_count": 21,
     "metadata": {},
     "output_type": "execute_result"
    }
   ],
   "source": [
    "data.tail(15)"
   ]
  },
  {
   "cell_type": "code",
   "execution_count": null,
   "metadata": {},
   "outputs": [],
   "source": []
  },
  {
   "cell_type": "code",
   "execution_count": 22,
   "metadata": {},
   "outputs": [
    {
     "data": {
      "text/plain": [
       "Text(0.5, 1.0, 'Yearly sales')"
      ]
     },
     "execution_count": 22,
     "metadata": {},
     "output_type": "execute_result"
    },
    {
     "data": {
      "image/png": "[encoded data removed]",
      "text/plain": [
       "<Figure size 720x360 with 1 Axes>"
      ]
     },
     "metadata": {},
     "output_type": "display_data"
    }
   ],
   "source": [
    "yearlyTable = data['year'].value_counts().plot(kind='bar',figsize=(10,5))\n",
    "yearlyTable.set_xlabel(\"year\")\n",
    "data['year'].value_counts().head()\n",
    "plt.title('Yearly sales')"
   ]
  },
  {
   "cell_type": "code",
   "execution_count": 23,
   "metadata": {},
   "outputs": [
    {
     "data": {
      "text/plain": [
       "2018    9479\n",
       "2019    9333\n",
       "2020    1829\n",
       "Name: year, dtype: int64"
      ]
     },
     "execution_count": 23,
     "metadata": {},
     "output_type": "execute_result"
    }
   ],
   "source": [
    "data.year.value_counts()"
   ]
  },
  {
   "cell_type": "code",
   "execution_count": 24,
   "metadata": {},
   "outputs": [
    {
     "data": {
      "text/plain": [
       "Text(0.5, 1.0, 'monthly sales')"
      ]
     },
     "execution_count": 24,
     "metadata": {},
     "output_type": "execute_result"
    },
    {
     "data": {
      "image/png": "[encoded data removed]",
      "text/plain": [
       "<Figure size 720x360 with 1 Axes>"
      ]
     },
     "metadata": {},
     "output_type": "display_data"
    }
   ],
   "source": [
    "monthlyTable = data['month'].value_counts().plot(kind='bar',figsize=(10,5))\n",
    "monthlyTable.set_xlabel(\"month\")\n",
    "data['month'].value_counts().head()\n",
    "plt.title('monthly sales')"
   ]
  },
  {
   "cell_type": "code",
   "execution_count": 25,
   "metadata": {},
   "outputs": [
    {
     "data": {
      "text/plain": [
       "1     2732\n",
       "2     2210\n",
       "5     2131\n",
       "7     2115\n",
       "6     2054\n",
       "3     1966\n",
       "8     1963\n",
       "4     1861\n",
       "9     1786\n",
       "11     760\n",
       "12     649\n",
       "10     414\n",
       "Name: month, dtype: int64"
      ]
     },
     "execution_count": 25,
     "metadata": {},
     "output_type": "execute_result"
    }
   ],
   "source": [
    "data.month.value_counts()"
   ]
  },
  {
   "cell_type": "code",
   "execution_count": 26,
   "metadata": {},
   "outputs": [
    {
     "data": {
      "text/plain": [
       "Text(0.5, 1.0, 'daily sales')"
      ]
     },
     "execution_count": 26,
     "metadata": {},
     "output_type": "execute_result"
    },
    {
     "data": {
      "image/png": "[encoded data removed]",
      "text/plain": [
       "<Figure size 720x360 with 1 Axes>"
      ]
     },
     "metadata": {},
     "output_type": "display_data"
    }
   ],
   "source": [
    "dayTable = data['day'].value_counts().plot(kind='bar',figsize=(10,5))\n",
    "dayTable.set_xlabel(\"day\")\n",
    "data['day'].value_counts().head()\n",
    "plt.title('daily sales')"
   ]
  },
  {
   "cell_type": "code",
   "execution_count": 27,
   "metadata": {},
   "outputs": [
    {
     "data": {
      "text/plain": [
       "1     1293\n",
       "2     1216\n",
       "3     1030\n",
       "9     1028\n",
       "17     910\n",
       "5      892\n",
       "8      793\n",
       "22     793\n",
       "21     792\n",
       "4      761\n",
       "19     761\n",
       "30     739\n",
       "7      715\n",
       "25     690\n",
       "23     680\n",
       "26     676\n",
       "13     652\n",
       "6      637\n",
       "16     635\n",
       "29     630\n",
       "27     628\n",
       "14     624\n",
       "18     591\n",
       "20     583\n",
       "15     576\n",
       "24     490\n",
       "31     463\n",
       "28     363\n",
       "Name: day, dtype: int64"
      ]
     },
     "execution_count": 27,
     "metadata": {},
     "output_type": "execute_result"
    }
   ],
   "source": [
    "data.day.value_counts()"
   ]
  },
  {
   "cell_type": "code",
   "execution_count": 28,
   "metadata": {},
   "outputs": [
    {
     "data": {
      "text/plain": [
       "Text(0.5, 1.0, 'weekday sales')"
      ]
     },
     "execution_count": 28,
     "metadata": {},
     "output_type": "execute_result"
    },
    {
     "data": {
      "image/png": "[encoded data removed]",
      "text/plain": [
       "<Figure size 720x360 with 1 Axes>"
      ]
     },
     "metadata": {},
     "output_type": "display_data"
    }
   ],
   "source": [
    "weekdayTable = data['weekday'].value_counts().plot(kind='bar',figsize=(10,5))\n",
    "weekdayTable.set_xlabel(\"weekday\")\n",
    "data['weekday'].value_counts().head()\n",
    "plt.title('weekday sales')"
   ]
  },
  {
   "cell_type": "code",
   "execution_count": 29,
   "metadata": {},
   "outputs": [
    {
     "data": {
      "text/plain": [
       "6    3147\n",
       "1    3115\n",
       "4    3048\n",
       "2    2888\n",
       "3    2840\n",
       "5    2839\n",
       "0    2764\n",
       "Name: weekday, dtype: int64"
      ]
     },
     "execution_count": 29,
     "metadata": {},
     "output_type": "execute_result"
    }
   ],
   "source": [
    "data.weekday.value_counts()"
   ]
  },
  {
   "cell_type": "code",
   "execution_count": 30,
   "metadata": {},
   "outputs": [
    {
     "data": {
      "text/html": [
       "<div>\n",
       "<style scoped>\n",
       "    .dataframe tbody tr th:only-of-type {\n",
       "        vertical-align: middle;\n",
       "    }\n",
       "\n",
       "    .dataframe tbody tr th {\n",
       "        vertical-align: top;\n",
       "    }\n",
       "\n",
       "    .dataframe thead th {\n",
       "        text-align: right;\n",
       "    }\n",
       "</style>\n",
       "<table border=\"1\" class=\"dataframe\">\n",
       "  <thead>\n",
       "    <tr style=\"text-align: right;\">\n",
       "      <th></th>\n",
       "      <th>Product</th>\n",
       "      <th>Order_id</th>\n",
       "    </tr>\n",
       "    <tr>\n",
       "      <th>monthly</th>\n",
       "      <th></th>\n",
       "      <th></th>\n",
       "    </tr>\n",
       "  </thead>\n",
       "  <tbody>\n",
       "    <tr>\n",
       "      <th>2018-01</th>\n",
       "      <td>all- purpose</td>\n",
       "      <td>33</td>\n",
       "    </tr>\n",
       "    <tr>\n",
       "      <th>2018-01</th>\n",
       "      <td>mixes</td>\n",
       "      <td>30</td>\n",
       "    </tr>\n",
       "    <tr>\n",
       "      <th>2018-01</th>\n",
       "      <td>paper towels</td>\n",
       "      <td>21</td>\n",
       "    </tr>\n",
       "    <tr>\n",
       "      <th>2018-01</th>\n",
       "      <td>pasta</td>\n",
       "      <td>26</td>\n",
       "    </tr>\n",
       "    <tr>\n",
       "      <th>2018-01</th>\n",
       "      <td>pork</td>\n",
       "      <td>30</td>\n",
       "    </tr>\n",
       "    <tr>\n",
       "      <th>2018-01</th>\n",
       "      <td>poultry</td>\n",
       "      <td>30</td>\n",
       "    </tr>\n",
       "    <tr>\n",
       "      <th>2018-01</th>\n",
       "      <td>sandwich bags</td>\n",
       "      <td>25</td>\n",
       "    </tr>\n",
       "    <tr>\n",
       "      <th>2018-01</th>\n",
       "      <td>shampoo</td>\n",
       "      <td>42</td>\n",
       "    </tr>\n",
       "    <tr>\n",
       "      <th>2018-01</th>\n",
       "      <td>soap</td>\n",
       "      <td>31</td>\n",
       "    </tr>\n",
       "    <tr>\n",
       "      <th>2018-01</th>\n",
       "      <td>soda</td>\n",
       "      <td>35</td>\n",
       "    </tr>\n",
       "    <tr>\n",
       "      <th>2018-01</th>\n",
       "      <td>spaghetti sauce</td>\n",
       "      <td>29</td>\n",
       "    </tr>\n",
       "    <tr>\n",
       "      <th>2018-01</th>\n",
       "      <td>sugar</td>\n",
       "      <td>23</td>\n",
       "    </tr>\n",
       "    <tr>\n",
       "      <th>2018-01</th>\n",
       "      <td>toilet paper</td>\n",
       "      <td>28</td>\n",
       "    </tr>\n",
       "    <tr>\n",
       "      <th>2018-01</th>\n",
       "      <td>tortillas</td>\n",
       "      <td>28</td>\n",
       "    </tr>\n",
       "    <tr>\n",
       "      <th>2018-01</th>\n",
       "      <td>waffles</td>\n",
       "      <td>38</td>\n",
       "    </tr>\n",
       "    <tr>\n",
       "      <th>2018-01</th>\n",
       "      <td>yogurt</td>\n",
       "      <td>21</td>\n",
       "    </tr>\n",
       "    <tr>\n",
       "      <th>2018-01</th>\n",
       "      <td>milk</td>\n",
       "      <td>22</td>\n",
       "    </tr>\n",
       "    <tr>\n",
       "      <th>2018-01</th>\n",
       "      <td>lunch meat</td>\n",
       "      <td>31</td>\n",
       "    </tr>\n",
       "    <tr>\n",
       "      <th>2018-01</th>\n",
       "      <td>sandwich loaves</td>\n",
       "      <td>30</td>\n",
       "    </tr>\n",
       "    <tr>\n",
       "      <th>2018-01</th>\n",
       "      <td>ketchup</td>\n",
       "      <td>23</td>\n",
       "    </tr>\n",
       "  </tbody>\n",
       "</table>\n",
       "</div>"
      ],
      "text/plain": [
       "                 Product  Order_id\n",
       "monthly                           \n",
       "2018-01     all- purpose        33\n",
       "2018-01            mixes        30\n",
       "2018-01     paper towels        21\n",
       "2018-01            pasta        26\n",
       "2018-01             pork        30\n",
       "2018-01          poultry        30\n",
       "2018-01    sandwich bags        25\n",
       "2018-01          shampoo        42\n",
       "2018-01             soap        31\n",
       "2018-01             soda        35\n",
       "2018-01  spaghetti sauce        29\n",
       "2018-01            sugar        23\n",
       "2018-01     toilet paper        28\n",
       "2018-01        tortillas        28\n",
       "2018-01          waffles        38\n",
       "2018-01           yogurt        21\n",
       "2018-01             milk        22\n",
       "2018-01       lunch meat        31\n",
       "2018-01  sandwich loaves        30\n",
       "2018-01          ketchup        23"
      ]
     },
     "execution_count": 30,
     "metadata": {},
     "output_type": "execute_result"
    }
   ],
   "source": [
    "data['monthly'] = pd.to_datetime(data['datetime']).dt.to_period('M')\n",
    "monthly_orders = data[['monthly','Order_id', 'Product']].groupby(['monthly', 'Product'], as_index=False).count().sort_values(by='monthly')\n",
    "monthly_orders.set_index('monthly' ,inplace=True)\n",
    "\n",
    "monthly_orders.head(20)"
   ]
  },
  {
   "cell_type": "code",
   "execution_count": null,
   "metadata": {},
   "outputs": [],
   "source": []
  },
  {
   "cell_type": "code",
   "execution_count": 31,
   "metadata": {},
   "outputs": [
    {
     "data": {
      "image/png": "[encoded data removed]",
      "text/plain": [
       "<Figure size 720x432 with 1 Axes>"
      ]
     },
     "metadata": {},
     "output_type": "display_data"
    }
   ],
   "source": [
    "Shampoo_Sales_Monthly = monthly_orders[monthly_orders['Product']=='shampoo'].plot(kind='bar', figsize=(10,6))\n",
    "Shampoo_Sales_Monthly.set_xlabel(\"Shampoo Monthly Sales\")\n",
    "\n",
    "plt.ylabel('Order_id', fontsize=16)\n",
    "plt.xlabel('Month', fontsize=16)\n",
    "plt.title(\"Shampoo Monthly Sales\", fontsize=16);\n"
   ]
  },
  {
   "cell_type": "code",
   "execution_count": 32,
   "metadata": {},
   "outputs": [
    {
     "data": {
      "text/html": [
       "<div>\n",
       "<style scoped>\n",
       "    .dataframe tbody tr th:only-of-type {\n",
       "        vertical-align: middle;\n",
       "    }\n",
       "\n",
       "    .dataframe tbody tr th {\n",
       "        vertical-align: top;\n",
       "    }\n",
       "\n",
       "    .dataframe thead th {\n",
       "        text-align: right;\n",
       "    }\n",
       "</style>\n",
       "<table border=\"1\" class=\"dataframe\">\n",
       "  <thead>\n",
       "    <tr style=\"text-align: right;\">\n",
       "      <th></th>\n",
       "      <th>Product</th>\n",
       "      <th>Order_id</th>\n",
       "    </tr>\n",
       "    <tr>\n",
       "      <th>yearly</th>\n",
       "      <th></th>\n",
       "      <th></th>\n",
       "    </tr>\n",
       "  </thead>\n",
       "  <tbody>\n",
       "    <tr>\n",
       "      <th>2018</th>\n",
       "      <td>all- purpose</td>\n",
       "      <td>248</td>\n",
       "    </tr>\n",
       "    <tr>\n",
       "      <th>2018</th>\n",
       "      <td>mixes</td>\n",
       "      <td>266</td>\n",
       "    </tr>\n",
       "    <tr>\n",
       "      <th>2018</th>\n",
       "      <td>paper towels</td>\n",
       "      <td>235</td>\n",
       "    </tr>\n",
       "    <tr>\n",
       "      <th>2018</th>\n",
       "      <td>pasta</td>\n",
       "      <td>265</td>\n",
       "    </tr>\n",
       "    <tr>\n",
       "      <th>2018</th>\n",
       "      <td>pork</td>\n",
       "      <td>239</td>\n",
       "    </tr>\n",
       "    <tr>\n",
       "      <th>2018</th>\n",
       "      <td>poultry</td>\n",
       "      <td>287</td>\n",
       "    </tr>\n",
       "    <tr>\n",
       "      <th>2018</th>\n",
       "      <td>sandwich bags</td>\n",
       "      <td>247</td>\n",
       "    </tr>\n",
       "    <tr>\n",
       "      <th>2018</th>\n",
       "      <td>shampoo</td>\n",
       "      <td>275</td>\n",
       "    </tr>\n",
       "    <tr>\n",
       "      <th>2018</th>\n",
       "      <td>soap</td>\n",
       "      <td>260</td>\n",
       "    </tr>\n",
       "    <tr>\n",
       "      <th>2018</th>\n",
       "      <td>soda</td>\n",
       "      <td>256</td>\n",
       "    </tr>\n",
       "    <tr>\n",
       "      <th>2018</th>\n",
       "      <td>spaghetti sauce</td>\n",
       "      <td>254</td>\n",
       "    </tr>\n",
       "    <tr>\n",
       "      <th>2018</th>\n",
       "      <td>sugar</td>\n",
       "      <td>245</td>\n",
       "    </tr>\n",
       "    <tr>\n",
       "      <th>2018</th>\n",
       "      <td>toilet paper</td>\n",
       "      <td>260</td>\n",
       "    </tr>\n",
       "    <tr>\n",
       "      <th>2018</th>\n",
       "      <td>tortillas</td>\n",
       "      <td>239</td>\n",
       "    </tr>\n",
       "    <tr>\n",
       "      <th>2018</th>\n",
       "      <td>waffles</td>\n",
       "      <td>266</td>\n",
       "    </tr>\n",
       "    <tr>\n",
       "      <th>2018</th>\n",
       "      <td>yogurt</td>\n",
       "      <td>227</td>\n",
       "    </tr>\n",
       "    <tr>\n",
       "      <th>2018</th>\n",
       "      <td>milk</td>\n",
       "      <td>243</td>\n",
       "    </tr>\n",
       "    <tr>\n",
       "      <th>2018</th>\n",
       "      <td>lunch meat</td>\n",
       "      <td>269</td>\n",
       "    </tr>\n",
       "    <tr>\n",
       "      <th>2018</th>\n",
       "      <td>sandwich loaves</td>\n",
       "      <td>224</td>\n",
       "    </tr>\n",
       "    <tr>\n",
       "      <th>2018</th>\n",
       "      <td>ketchup</td>\n",
       "      <td>265</td>\n",
       "    </tr>\n",
       "  </tbody>\n",
       "</table>\n",
       "</div>"
      ],
      "text/plain": [
       "                Product  Order_id\n",
       "yearly                           \n",
       "2018       all- purpose       248\n",
       "2018              mixes       266\n",
       "2018       paper towels       235\n",
       "2018              pasta       265\n",
       "2018               pork       239\n",
       "2018            poultry       287\n",
       "2018      sandwich bags       247\n",
       "2018            shampoo       275\n",
       "2018               soap       260\n",
       "2018               soda       256\n",
       "2018    spaghetti sauce       254\n",
       "2018              sugar       245\n",
       "2018       toilet paper       260\n",
       "2018          tortillas       239\n",
       "2018            waffles       266\n",
       "2018             yogurt       227\n",
       "2018               milk       243\n",
       "2018         lunch meat       269\n",
       "2018    sandwich loaves       224\n",
       "2018            ketchup       265"
      ]
     },
     "execution_count": 32,
     "metadata": {},
     "output_type": "execute_result"
    }
   ],
   "source": [
    "data['yearly'] = pd.to_datetime(data['datetime']).dt.to_period('Y')\n",
    "yearly_orders = data[['yearly','Order_id', 'Product']].groupby(['yearly', 'Product'], as_index=False).count().sort_values(by='yearly')\n",
    "yearly_orders.set_index('yearly' ,inplace=True)\n",
    "\n",
    "yearly_orders.head(20)"
   ]
  },
  {
   "cell_type": "code",
   "execution_count": 33,
   "metadata": {},
   "outputs": [
    {
     "data": {
      "text/plain": [
       "poultry                         640\n",
       "soda                            597\n",
       "cereals                         591\n",
       "ice cream                       579\n",
       "cheeses                         578\n",
       "waffles                         575\n",
       "soap                            574\n",
       "lunch meat                      573\n",
       "bagels                          573\n",
       "eggs                            570\n",
       "juice                           570\n",
       "toilet paper                    569\n",
       "dinner rolls                    567\n",
       "aluminum foil                   566\n",
       "coffee/tea                      565\n",
       "shampoo                         562\n",
       "beef                            561\n",
       "paper towels                    556\n",
       "flour                           555\n",
       "butter                          555\n",
       "milk                            555\n",
       "mixes                           554\n",
       "all- purpose                    551\n",
       "dishwashing liquid/detergent    551\n",
       "ketchup                         548\n",
       "yogurt                          545\n",
       "individual meals                544\n",
       "tortillas                       543\n",
       "pasta                           542\n",
       "laundry detergent               542\n",
       "sandwich bags                   536\n",
       "spaghetti sauce                 536\n",
       "sugar                           533\n",
       "pork                            531\n",
       "fruits                          529\n",
       "sandwich loaves                 523\n",
       "hand soap                       502\n",
       "Name: Product, dtype: int64"
      ]
     },
     "execution_count": 33,
     "metadata": {},
     "output_type": "execute_result"
    }
   ],
   "source": [
    "data.Product.value_counts()"
   ]
  },
  {
   "cell_type": "code",
   "execution_count": null,
   "metadata": {},
   "outputs": [],
   "source": []
  },
  {
   "cell_type": "code",
   "execution_count": null,
   "metadata": {},
   "outputs": [],
   "source": []
  },
  {
   "cell_type": "code",
   "execution_count": null,
   "metadata": {},
   "outputs": [],
   "source": []
  },
  {
   "cell_type": "code",
   "execution_count": 34,
   "metadata": {},
   "outputs": [
    {
     "data": {
      "text/plain": [
       "Index(['poultry', 'soda', 'cereals', 'ice cream', 'cheeses', 'waffles', 'soap',\n",
       "       'lunch meat', 'bagels', 'eggs', 'juice', 'toilet paper', 'dinner rolls',\n",
       "       'aluminum foil', 'coffee/tea', 'shampoo', 'beef', 'paper towels',\n",
       "       'flour', 'butter', 'milk', 'mixes', 'all- purpose',\n",
       "       'dishwashing liquid/detergent', 'ketchup', 'yogurt', 'individual meals',\n",
       "       'tortillas', 'pasta', 'laundry detergent', 'sandwich bags',\n",
       "       'spaghetti sauce', 'sugar', 'pork', 'fruits', 'sandwich loaves',\n",
       "       'hand soap'],\n",
       "      dtype='object')"
      ]
     },
     "execution_count": 34,
     "metadata": {},
     "output_type": "execute_result"
    }
   ],
   "source": [
    "y = data.Product.value_counts().head(50).to_frame()\n",
    "y.index"
   ]
  },
  {
   "cell_type": "code",
   "execution_count": 35,
   "metadata": {},
   "outputs": [
    {
     "data": {
      "image/png": "[encoded data removed]",
      "text/plain": [
       "<Figure size 1080x720 with 1 Axes>"
      ]
     },
     "metadata": {},
     "output_type": "display_data"
    }
   ],
   "source": [
    "# plotting a tree map\n",
    "\n",
    "plt.rcParams['figure.figsize'] = (15,10)\n",
    "color = plt.cm.cool(np.linspace(0, 1, 50))\n",
    "squarify.plot(sizes = y.values, label = y.index, alpha=.8, color = color)\n",
    "plt.title('Tree Map for Popular Products')\n",
    "plt.axis('off')\n",
    "plt.show()"
   ]
  },
  {
   "cell_type": "code",
   "execution_count": null,
   "metadata": {},
   "outputs": [],
   "source": []
  },
  {
   "cell_type": "code",
   "execution_count": null,
   "metadata": {},
   "outputs": [],
   "source": []
  },
  {
   "cell_type": "code",
   "execution_count": null,
   "metadata": {},
   "outputs": [],
   "source": []
  },
  {
   "cell_type": "code",
   "execution_count": null,
   "metadata": {},
   "outputs": [],
   "source": []
  },
  {
   "cell_type": "code",
   "execution_count": null,
   "metadata": {},
   "outputs": [],
   "source": []
  },
  {
   "cell_type": "code",
   "execution_count": 36,
   "metadata": {},
   "outputs": [],
   "source": [
    "basket=data.groupby(['Order_id', 'Product'])['Product'].count().unstack().reset_index().fillna(0).set_index('Order_id')"
   ]
  },
  {
   "cell_type": "code",
   "execution_count": 37,
   "metadata": {},
   "outputs": [
    {
     "data": {
      "text/html": [
       "<div>\n",
       "<style scoped>\n",
       "    .dataframe tbody tr th:only-of-type {\n",
       "        vertical-align: middle;\n",
       "    }\n",
       "\n",
       "    .dataframe tbody tr th {\n",
       "        vertical-align: top;\n",
       "    }\n",
       "\n",
       "    .dataframe thead th {\n",
       "        text-align: right;\n",
       "    }\n",
       "</style>\n",
       "<table border=\"1\" class=\"dataframe\">\n",
       "  <thead>\n",
       "    <tr style=\"text-align: right;\">\n",
       "      <th>Product</th>\n",
       "      <th>all- purpose</th>\n",
       "      <th>aluminum foil</th>\n",
       "      <th>bagels</th>\n",
       "      <th>beef</th>\n",
       "      <th>butter</th>\n",
       "      <th>cereals</th>\n",
       "      <th>cheeses</th>\n",
       "      <th>coffee/tea</th>\n",
       "      <th>dinner rolls</th>\n",
       "      <th>dishwashing liquid/detergent</th>\n",
       "      <th>...</th>\n",
       "      <th>sandwich loaves</th>\n",
       "      <th>shampoo</th>\n",
       "      <th>soap</th>\n",
       "      <th>soda</th>\n",
       "      <th>spaghetti sauce</th>\n",
       "      <th>sugar</th>\n",
       "      <th>toilet paper</th>\n",
       "      <th>tortillas</th>\n",
       "      <th>waffles</th>\n",
       "      <th>yogurt</th>\n",
       "    </tr>\n",
       "    <tr>\n",
       "      <th>Order_id</th>\n",
       "      <th></th>\n",
       "      <th></th>\n",
       "      <th></th>\n",
       "      <th></th>\n",
       "      <th></th>\n",
       "      <th></th>\n",
       "      <th></th>\n",
       "      <th></th>\n",
       "      <th></th>\n",
       "      <th></th>\n",
       "      <th></th>\n",
       "      <th></th>\n",
       "      <th></th>\n",
       "      <th></th>\n",
       "      <th></th>\n",
       "      <th></th>\n",
       "      <th></th>\n",
       "      <th></th>\n",
       "      <th></th>\n",
       "      <th></th>\n",
       "      <th></th>\n",
       "    </tr>\n",
       "  </thead>\n",
       "  <tbody>\n",
       "    <tr>\n",
       "      <th>1</th>\n",
       "      <td>3.0</td>\n",
       "      <td>1.0</td>\n",
       "      <td>0.0</td>\n",
       "      <td>1.0</td>\n",
       "      <td>1.0</td>\n",
       "      <td>0.0</td>\n",
       "      <td>0.0</td>\n",
       "      <td>0.0</td>\n",
       "      <td>2.0</td>\n",
       "      <td>0.0</td>\n",
       "      <td>...</td>\n",
       "      <td>0.0</td>\n",
       "      <td>1.0</td>\n",
       "      <td>1.0</td>\n",
       "      <td>1.0</td>\n",
       "      <td>0.0</td>\n",
       "      <td>0.0</td>\n",
       "      <td>0.0</td>\n",
       "      <td>0.0</td>\n",
       "      <td>0.0</td>\n",
       "      <td>1.0</td>\n",
       "    </tr>\n",
       "    <tr>\n",
       "      <th>2</th>\n",
       "      <td>0.0</td>\n",
       "      <td>1.0</td>\n",
       "      <td>0.0</td>\n",
       "      <td>0.0</td>\n",
       "      <td>0.0</td>\n",
       "      <td>1.0</td>\n",
       "      <td>1.0</td>\n",
       "      <td>0.0</td>\n",
       "      <td>0.0</td>\n",
       "      <td>1.0</td>\n",
       "      <td>...</td>\n",
       "      <td>0.0</td>\n",
       "      <td>2.0</td>\n",
       "      <td>0.0</td>\n",
       "      <td>0.0</td>\n",
       "      <td>0.0</td>\n",
       "      <td>0.0</td>\n",
       "      <td>1.0</td>\n",
       "      <td>1.0</td>\n",
       "      <td>2.0</td>\n",
       "      <td>1.0</td>\n",
       "    </tr>\n",
       "    <tr>\n",
       "      <th>3</th>\n",
       "      <td>0.0</td>\n",
       "      <td>0.0</td>\n",
       "      <td>1.0</td>\n",
       "      <td>0.0</td>\n",
       "      <td>0.0</td>\n",
       "      <td>1.0</td>\n",
       "      <td>1.0</td>\n",
       "      <td>0.0</td>\n",
       "      <td>1.0</td>\n",
       "      <td>0.0</td>\n",
       "      <td>...</td>\n",
       "      <td>1.0</td>\n",
       "      <td>1.0</td>\n",
       "      <td>2.0</td>\n",
       "      <td>1.0</td>\n",
       "      <td>3.0</td>\n",
       "      <td>0.0</td>\n",
       "      <td>2.0</td>\n",
       "      <td>0.0</td>\n",
       "      <td>0.0</td>\n",
       "      <td>0.0</td>\n",
       "    </tr>\n",
       "    <tr>\n",
       "      <th>4</th>\n",
       "      <td>1.0</td>\n",
       "      <td>0.0</td>\n",
       "      <td>0.0</td>\n",
       "      <td>0.0</td>\n",
       "      <td>0.0</td>\n",
       "      <td>1.0</td>\n",
       "      <td>0.0</td>\n",
       "      <td>0.0</td>\n",
       "      <td>0.0</td>\n",
       "      <td>0.0</td>\n",
       "      <td>...</td>\n",
       "      <td>0.0</td>\n",
       "      <td>0.0</td>\n",
       "      <td>0.0</td>\n",
       "      <td>1.0</td>\n",
       "      <td>0.0</td>\n",
       "      <td>0.0</td>\n",
       "      <td>1.0</td>\n",
       "      <td>0.0</td>\n",
       "      <td>0.0</td>\n",
       "      <td>0.0</td>\n",
       "    </tr>\n",
       "    <tr>\n",
       "      <th>5</th>\n",
       "      <td>1.0</td>\n",
       "      <td>0.0</td>\n",
       "      <td>0.0</td>\n",
       "      <td>0.0</td>\n",
       "      <td>0.0</td>\n",
       "      <td>0.0</td>\n",
       "      <td>0.0</td>\n",
       "      <td>0.0</td>\n",
       "      <td>1.0</td>\n",
       "      <td>0.0</td>\n",
       "      <td>...</td>\n",
       "      <td>1.0</td>\n",
       "      <td>0.0</td>\n",
       "      <td>0.0</td>\n",
       "      <td>1.0</td>\n",
       "      <td>1.0</td>\n",
       "      <td>0.0</td>\n",
       "      <td>1.0</td>\n",
       "      <td>1.0</td>\n",
       "      <td>1.0</td>\n",
       "      <td>1.0</td>\n",
       "    </tr>\n",
       "  </tbody>\n",
       "</table>\n",
       "<p>5 rows × 37 columns</p>\n",
       "</div>"
      ],
      "text/plain": [
       "Product   all- purpose  aluminum foil  bagels  beef  butter  cereals  cheeses  \\\n",
       "Order_id                                                                        \n",
       "1                  3.0            1.0     0.0   1.0     1.0      0.0      0.0   \n",
       "2                  0.0            1.0     0.0   0.0     0.0      1.0      1.0   \n",
       "3                  0.0            0.0     1.0   0.0     0.0      1.0      1.0   \n",
       "4                  1.0            0.0     0.0   0.0     0.0      1.0      0.0   \n",
       "5                  1.0            0.0     0.0   0.0     0.0      0.0      0.0   \n",
       "\n",
       "Product   coffee/tea  dinner rolls  dishwashing liquid/detergent  ...  \\\n",
       "Order_id                                                          ...   \n",
       "1                0.0           2.0                           0.0  ...   \n",
       "2                0.0           0.0                           1.0  ...   \n",
       "3                0.0           1.0                           0.0  ...   \n",
       "4                0.0           0.0                           0.0  ...   \n",
       "5                0.0           1.0                           0.0  ...   \n",
       "\n",
       "Product   sandwich loaves  shampoo  soap  soda  spaghetti sauce  sugar  \\\n",
       "Order_id                                                                 \n",
       "1                     0.0      1.0   1.0   1.0              0.0    0.0   \n",
       "2                     0.0      2.0   0.0   0.0              0.0    0.0   \n",
       "3                     1.0      1.0   2.0   1.0              3.0    0.0   \n",
       "4                     0.0      0.0   0.0   1.0              0.0    0.0   \n",
       "5                     1.0      0.0   0.0   1.0              1.0    0.0   \n",
       "\n",
       "Product   toilet paper  tortillas  waffles  yogurt  \n",
       "Order_id                                            \n",
       "1                  0.0        0.0      0.0     1.0  \n",
       "2                  1.0        1.0      2.0     1.0  \n",
       "3                  2.0        0.0      0.0     0.0  \n",
       "4                  1.0        0.0      0.0     0.0  \n",
       "5                  1.0        1.0      1.0     1.0  \n",
       "\n",
       "[5 rows x 37 columns]"
      ]
     },
     "execution_count": 37,
     "metadata": {},
     "output_type": "execute_result"
    }
   ],
   "source": [
    "basket.head()"
   ]
  },
  {
   "cell_type": "code",
   "execution_count": 38,
   "metadata": {},
   "outputs": [],
   "source": [
    "def encode_zero_one(x):\n",
    "    if x <= 0:\n",
    "        return 0\n",
    "    if x >= 1:\n",
    "        return 1"
   ]
  },
  {
   "cell_type": "code",
   "execution_count": 39,
   "metadata": {},
   "outputs": [],
   "source": [
    "basket=basket.applymap(encode_zero_one)"
   ]
  },
  {
   "cell_type": "code",
   "execution_count": 40,
   "metadata": {},
   "outputs": [],
   "source": [
    "#Find the support for itemsets using Apriori"
   ]
  },
  {
   "cell_type": "code",
   "execution_count": 41,
   "metadata": {},
   "outputs": [
    {
     "data": {
      "text/html": [
       "<div>\n",
       "<style scoped>\n",
       "    .dataframe tbody tr th:only-of-type {\n",
       "        vertical-align: middle;\n",
       "    }\n",
       "\n",
       "    .dataframe tbody tr th {\n",
       "        vertical-align: top;\n",
       "    }\n",
       "\n",
       "    .dataframe thead th {\n",
       "        text-align: right;\n",
       "    }\n",
       "</style>\n",
       "<table border=\"1\" class=\"dataframe\">\n",
       "  <thead>\n",
       "    <tr style=\"text-align: right;\">\n",
       "      <th></th>\n",
       "      <th>support</th>\n",
       "      <th>itemsets</th>\n",
       "    </tr>\n",
       "  </thead>\n",
       "  <tbody>\n",
       "    <tr>\n",
       "      <th>0</th>\n",
       "      <td>0.374890</td>\n",
       "      <td>(all- purpose)</td>\n",
       "    </tr>\n",
       "    <tr>\n",
       "      <th>1</th>\n",
       "      <td>0.384548</td>\n",
       "      <td>(aluminum foil)</td>\n",
       "    </tr>\n",
       "    <tr>\n",
       "      <th>2</th>\n",
       "      <td>0.385426</td>\n",
       "      <td>(bagels)</td>\n",
       "    </tr>\n",
       "    <tr>\n",
       "      <th>3</th>\n",
       "      <td>0.374890</td>\n",
       "      <td>(beef)</td>\n",
       "    </tr>\n",
       "    <tr>\n",
       "      <th>4</th>\n",
       "      <td>0.367867</td>\n",
       "      <td>(butter)</td>\n",
       "    </tr>\n",
       "    <tr>\n",
       "      <th>...</th>\n",
       "      <td>...</td>\n",
       "      <td>...</td>\n",
       "    </tr>\n",
       "    <tr>\n",
       "      <th>8449</th>\n",
       "      <td>0.051800</td>\n",
       "      <td>(poultry, ice cream, dinner rolls, spaghetti s...</td>\n",
       "    </tr>\n",
       "    <tr>\n",
       "      <th>8450</th>\n",
       "      <td>0.051800</td>\n",
       "      <td>(poultry, juice, dinner rolls, spaghetti sauce)</td>\n",
       "    </tr>\n",
       "    <tr>\n",
       "      <th>8451</th>\n",
       "      <td>0.053556</td>\n",
       "      <td>(poultry, dinner rolls, spaghetti sauce, laund...</td>\n",
       "    </tr>\n",
       "    <tr>\n",
       "      <th>8452</th>\n",
       "      <td>0.050044</td>\n",
       "      <td>(poultry, laundry detergent, mixes, dishwashin...</td>\n",
       "    </tr>\n",
       "    <tr>\n",
       "      <th>8453</th>\n",
       "      <td>0.055312</td>\n",
       "      <td>(pasta, paper towels, ice cream, eggs)</td>\n",
       "    </tr>\n",
       "  </tbody>\n",
       "</table>\n",
       "<p>8454 rows × 2 columns</p>\n",
       "</div>"
      ],
      "text/plain": [
       "       support                                           itemsets\n",
       "0     0.374890                                     (all- purpose)\n",
       "1     0.384548                                    (aluminum foil)\n",
       "2     0.385426                                           (bagels)\n",
       "3     0.374890                                             (beef)\n",
       "4     0.367867                                           (butter)\n",
       "...        ...                                                ...\n",
       "8449  0.051800  (poultry, ice cream, dinner rolls, spaghetti s...\n",
       "8450  0.051800    (poultry, juice, dinner rolls, spaghetti sauce)\n",
       "8451  0.053556  (poultry, dinner rolls, spaghetti sauce, laund...\n",
       "8452  0.050044  (poultry, laundry detergent, mixes, dishwashin...\n",
       "8453  0.055312             (pasta, paper towels, ice cream, eggs)\n",
       "\n",
       "[8454 rows x 2 columns]"
      ]
     },
     "execution_count": 41,
     "metadata": {},
     "output_type": "execute_result"
    }
   ],
   "source": [
    "itemsets = apriori(basket, min_support = 0.05, use_colnames = True)\n",
    "itemsets"
   ]
  },
  {
   "cell_type": "code",
   "execution_count": 42,
   "metadata": {},
   "outputs": [],
   "source": [
    "#Visualizing the Support of itemsets"
   ]
  },
  {
   "cell_type": "code",
   "execution_count": 43,
   "metadata": {},
   "outputs": [
    {
     "data": {
      "image/png": "[encoded data removed]",
      "text/plain": [
       "<Figure size 864x504 with 1 Axes>"
      ]
     },
     "metadata": {},
     "output_type": "display_data"
    }
   ],
   "source": [
    "plt.figure(figsize=(12,7))\n",
    "sns.barplot(itemsets.sort_values('support',ascending=False).iloc[0:20,1],\n",
    "            itemsets.sort_values('support',ascending=False).iloc[0:20,0])\n",
    "plt.xticks(rotation=90)\n",
    "plt.show()"
   ]
  },
  {
   "cell_type": "code",
   "execution_count": 44,
   "metadata": {},
   "outputs": [],
   "source": [
    "#Check the rules using association_rules"
   ]
  },
  {
   "cell_type": "code",
   "execution_count": 45,
   "metadata": {},
   "outputs": [],
   "source": [
    "basket = association_rules(itemsets, metric =\"lift\") \n"
   ]
  },
  {
   "cell_type": "code",
   "execution_count": 46,
   "metadata": {},
   "outputs": [],
   "source": [
    "basket = basket.sort_values(['lift','confidence'], ascending =[False, False]) "
   ]
  },
  {
   "cell_type": "code",
   "execution_count": 47,
   "metadata": {
    "scrolled": false
   },
   "outputs": [
    {
     "data": {
      "text/html": [
       "<div>\n",
       "<style scoped>\n",
       "    .dataframe tbody tr th:only-of-type {\n",
       "        vertical-align: middle;\n",
       "    }\n",
       "\n",
       "    .dataframe tbody tr th {\n",
       "        vertical-align: top;\n",
       "    }\n",
       "\n",
       "    .dataframe thead th {\n",
       "        text-align: right;\n",
       "    }\n",
       "</style>\n",
       "<table border=\"1\" class=\"dataframe\">\n",
       "  <thead>\n",
       "    <tr style=\"text-align: right;\">\n",
       "      <th></th>\n",
       "      <th>antecedents</th>\n",
       "      <th>consequents</th>\n",
       "      <th>antecedent support</th>\n",
       "      <th>consequent support</th>\n",
       "      <th>support</th>\n",
       "      <th>confidence</th>\n",
       "      <th>lift</th>\n",
       "      <th>leverage</th>\n",
       "      <th>conviction</th>\n",
       "    </tr>\n",
       "  </thead>\n",
       "  <tbody>\n",
       "    <tr>\n",
       "      <th>47948</th>\n",
       "      <td>(pasta, paper towels)</td>\n",
       "      <td>(ice cream, eggs)</td>\n",
       "      <td>0.164179</td>\n",
       "      <td>0.166813</td>\n",
       "      <td>0.055312</td>\n",
       "      <td>0.336898</td>\n",
       "      <td>2.019617</td>\n",
       "      <td>0.027924</td>\n",
       "      <td>1.256500</td>\n",
       "    </tr>\n",
       "    <tr>\n",
       "      <th>47953</th>\n",
       "      <td>(ice cream, eggs)</td>\n",
       "      <td>(pasta, paper towels)</td>\n",
       "      <td>0.166813</td>\n",
       "      <td>0.164179</td>\n",
       "      <td>0.055312</td>\n",
       "      <td>0.331579</td>\n",
       "      <td>2.019617</td>\n",
       "      <td>0.027924</td>\n",
       "      <td>1.250441</td>\n",
       "    </tr>\n",
       "    <tr>\n",
       "      <th>47949</th>\n",
       "      <td>(pasta, ice cream)</td>\n",
       "      <td>(paper towels, eggs)</td>\n",
       "      <td>0.167691</td>\n",
       "      <td>0.165935</td>\n",
       "      <td>0.055312</td>\n",
       "      <td>0.329843</td>\n",
       "      <td>1.987784</td>\n",
       "      <td>0.027486</td>\n",
       "      <td>1.244581</td>\n",
       "    </tr>\n",
       "    <tr>\n",
       "      <th>47952</th>\n",
       "      <td>(paper towels, eggs)</td>\n",
       "      <td>(pasta, ice cream)</td>\n",
       "      <td>0.165935</td>\n",
       "      <td>0.167691</td>\n",
       "      <td>0.055312</td>\n",
       "      <td>0.333333</td>\n",
       "      <td>1.987784</td>\n",
       "      <td>0.027486</td>\n",
       "      <td>1.248464</td>\n",
       "    </tr>\n",
       "    <tr>\n",
       "      <th>47853</th>\n",
       "      <td>(paper towels, dinner rolls)</td>\n",
       "      <td>(pasta, eggs)</td>\n",
       "      <td>0.155399</td>\n",
       "      <td>0.169447</td>\n",
       "      <td>0.051800</td>\n",
       "      <td>0.333333</td>\n",
       "      <td>1.967185</td>\n",
       "      <td>0.025468</td>\n",
       "      <td>1.245830</td>\n",
       "    </tr>\n",
       "    <tr>\n",
       "      <th>47852</th>\n",
       "      <td>(pasta, eggs)</td>\n",
       "      <td>(paper towels, dinner rolls)</td>\n",
       "      <td>0.169447</td>\n",
       "      <td>0.155399</td>\n",
       "      <td>0.051800</td>\n",
       "      <td>0.305699</td>\n",
       "      <td>1.967185</td>\n",
       "      <td>0.025468</td>\n",
       "      <td>1.216477</td>\n",
       "    </tr>\n",
       "    <tr>\n",
       "      <th>47908</th>\n",
       "      <td>(poultry, spaghetti sauce)</td>\n",
       "      <td>(juice, dinner rolls)</td>\n",
       "      <td>0.171203</td>\n",
       "      <td>0.157155</td>\n",
       "      <td>0.051800</td>\n",
       "      <td>0.302564</td>\n",
       "      <td>1.925254</td>\n",
       "      <td>0.024894</td>\n",
       "      <td>1.208490</td>\n",
       "    </tr>\n",
       "    <tr>\n",
       "      <th>47909</th>\n",
       "      <td>(juice, dinner rolls)</td>\n",
       "      <td>(poultry, spaghetti sauce)</td>\n",
       "      <td>0.157155</td>\n",
       "      <td>0.171203</td>\n",
       "      <td>0.051800</td>\n",
       "      <td>0.329609</td>\n",
       "      <td>1.925254</td>\n",
       "      <td>0.024894</td>\n",
       "      <td>1.236289</td>\n",
       "    </tr>\n",
       "    <tr>\n",
       "      <th>47798</th>\n",
       "      <td>(cereals, sandwich bags)</td>\n",
       "      <td>(cheeses, bagels)</td>\n",
       "      <td>0.158033</td>\n",
       "      <td>0.167691</td>\n",
       "      <td>0.050922</td>\n",
       "      <td>0.322222</td>\n",
       "      <td>1.921524</td>\n",
       "      <td>0.024421</td>\n",
       "      <td>1.227997</td>\n",
       "    </tr>\n",
       "    <tr>\n",
       "      <th>47795</th>\n",
       "      <td>(cheeses, bagels)</td>\n",
       "      <td>(cereals, sandwich bags)</td>\n",
       "      <td>0.167691</td>\n",
       "      <td>0.158033</td>\n",
       "      <td>0.050922</td>\n",
       "      <td>0.303665</td>\n",
       "      <td>1.921524</td>\n",
       "      <td>0.024421</td>\n",
       "      <td>1.209140</td>\n",
       "    </tr>\n",
       "    <tr>\n",
       "      <th>47950</th>\n",
       "      <td>(pasta, eggs)</td>\n",
       "      <td>(paper towels, ice cream)</td>\n",
       "      <td>0.169447</td>\n",
       "      <td>0.170325</td>\n",
       "      <td>0.055312</td>\n",
       "      <td>0.326425</td>\n",
       "      <td>1.916484</td>\n",
       "      <td>0.026451</td>\n",
       "      <td>1.231748</td>\n",
       "    </tr>\n",
       "    <tr>\n",
       "      <th>47951</th>\n",
       "      <td>(paper towels, ice cream)</td>\n",
       "      <td>(pasta, eggs)</td>\n",
       "      <td>0.170325</td>\n",
       "      <td>0.169447</td>\n",
       "      <td>0.055312</td>\n",
       "      <td>0.324742</td>\n",
       "      <td>1.916484</td>\n",
       "      <td>0.026451</td>\n",
       "      <td>1.229979</td>\n",
       "    </tr>\n",
       "    <tr>\n",
       "      <th>47924</th>\n",
       "      <td>(laundry detergent, dinner rolls)</td>\n",
       "      <td>(poultry, spaghetti sauce)</td>\n",
       "      <td>0.165057</td>\n",
       "      <td>0.171203</td>\n",
       "      <td>0.053556</td>\n",
       "      <td>0.324468</td>\n",
       "      <td>1.895226</td>\n",
       "      <td>0.025298</td>\n",
       "      <td>1.226881</td>\n",
       "    </tr>\n",
       "    <tr>\n",
       "      <th>47921</th>\n",
       "      <td>(poultry, spaghetti sauce)</td>\n",
       "      <td>(laundry detergent, dinner rolls)</td>\n",
       "      <td>0.171203</td>\n",
       "      <td>0.165057</td>\n",
       "      <td>0.053556</td>\n",
       "      <td>0.312821</td>\n",
       "      <td>1.895226</td>\n",
       "      <td>0.025298</td>\n",
       "      <td>1.215029</td>\n",
       "    </tr>\n",
       "    <tr>\n",
       "      <th>47799</th>\n",
       "      <td>(bagels, sandwich bags)</td>\n",
       "      <td>(cheeses, cereals)</td>\n",
       "      <td>0.154522</td>\n",
       "      <td>0.174715</td>\n",
       "      <td>0.050922</td>\n",
       "      <td>0.329545</td>\n",
       "      <td>1.886192</td>\n",
       "      <td>0.023925</td>\n",
       "      <td>1.230934</td>\n",
       "    </tr>\n",
       "    <tr>\n",
       "      <th>47794</th>\n",
       "      <td>(cheeses, cereals)</td>\n",
       "      <td>(bagels, sandwich bags)</td>\n",
       "      <td>0.174715</td>\n",
       "      <td>0.154522</td>\n",
       "      <td>0.050922</td>\n",
       "      <td>0.291457</td>\n",
       "      <td>1.886192</td>\n",
       "      <td>0.023925</td>\n",
       "      <td>1.193264</td>\n",
       "    </tr>\n",
       "    <tr>\n",
       "      <th>47895</th>\n",
       "      <td>(ice cream, dinner rolls)</td>\n",
       "      <td>(poultry, spaghetti sauce)</td>\n",
       "      <td>0.161545</td>\n",
       "      <td>0.171203</td>\n",
       "      <td>0.051800</td>\n",
       "      <td>0.320652</td>\n",
       "      <td>1.872938</td>\n",
       "      <td>0.024143</td>\n",
       "      <td>1.219989</td>\n",
       "    </tr>\n",
       "    <tr>\n",
       "      <th>47894</th>\n",
       "      <td>(poultry, spaghetti sauce)</td>\n",
       "      <td>(ice cream, dinner rolls)</td>\n",
       "      <td>0.171203</td>\n",
       "      <td>0.161545</td>\n",
       "      <td>0.051800</td>\n",
       "      <td>0.302564</td>\n",
       "      <td>1.872938</td>\n",
       "      <td>0.024143</td>\n",
       "      <td>1.202196</td>\n",
       "    </tr>\n",
       "    <tr>\n",
       "      <th>47797</th>\n",
       "      <td>(cereals, bagels)</td>\n",
       "      <td>(cheeses, sandwich bags)</td>\n",
       "      <td>0.162423</td>\n",
       "      <td>0.169447</td>\n",
       "      <td>0.050922</td>\n",
       "      <td>0.313514</td>\n",
       "      <td>1.850217</td>\n",
       "      <td>0.023400</td>\n",
       "      <td>1.209861</td>\n",
       "    </tr>\n",
       "    <tr>\n",
       "      <th>47796</th>\n",
       "      <td>(cheeses, sandwich bags)</td>\n",
       "      <td>(cereals, bagels)</td>\n",
       "      <td>0.169447</td>\n",
       "      <td>0.162423</td>\n",
       "      <td>0.050922</td>\n",
       "      <td>0.300518</td>\n",
       "      <td>1.850217</td>\n",
       "      <td>0.023400</td>\n",
       "      <td>1.197425</td>\n",
       "    </tr>\n",
       "  </tbody>\n",
       "</table>\n",
       "</div>"
      ],
      "text/plain": [
       "                             antecedents                        consequents  \\\n",
       "47948              (pasta, paper towels)                  (ice cream, eggs)   \n",
       "47953                  (ice cream, eggs)              (pasta, paper towels)   \n",
       "47949                 (pasta, ice cream)               (paper towels, eggs)   \n",
       "47952               (paper towels, eggs)                 (pasta, ice cream)   \n",
       "47853       (paper towels, dinner rolls)                      (pasta, eggs)   \n",
       "47852                      (pasta, eggs)       (paper towels, dinner rolls)   \n",
       "47908         (poultry, spaghetti sauce)              (juice, dinner rolls)   \n",
       "47909              (juice, dinner rolls)         (poultry, spaghetti sauce)   \n",
       "47798           (cereals, sandwich bags)                  (cheeses, bagels)   \n",
       "47795                  (cheeses, bagels)           (cereals, sandwich bags)   \n",
       "47950                      (pasta, eggs)          (paper towels, ice cream)   \n",
       "47951          (paper towels, ice cream)                      (pasta, eggs)   \n",
       "47924  (laundry detergent, dinner rolls)         (poultry, spaghetti sauce)   \n",
       "47921         (poultry, spaghetti sauce)  (laundry detergent, dinner rolls)   \n",
       "47799            (bagels, sandwich bags)                 (cheeses, cereals)   \n",
       "47794                 (cheeses, cereals)            (bagels, sandwich bags)   \n",
       "47895          (ice cream, dinner rolls)         (poultry, spaghetti sauce)   \n",
       "47894         (poultry, spaghetti sauce)          (ice cream, dinner rolls)   \n",
       "47797                  (cereals, bagels)           (cheeses, sandwich bags)   \n",
       "47796           (cheeses, sandwich bags)                  (cereals, bagels)   \n",
       "\n",
       "       antecedent support  consequent support   support  confidence      lift  \\\n",
       "47948            0.164179            0.166813  0.055312    0.336898  2.019617   \n",
       "47953            0.166813            0.164179  0.055312    0.331579  2.019617   \n",
       "47949            0.167691            0.165935  0.055312    0.329843  1.987784   \n",
       "47952            0.165935            0.167691  0.055312    0.333333  1.987784   \n",
       "47853            0.155399            0.169447  0.051800    0.333333  1.967185   \n",
       "47852            0.169447            0.155399  0.051800    0.305699  1.967185   \n",
       "47908            0.171203            0.157155  0.051800    0.302564  1.925254   \n",
       "47909            0.157155            0.171203  0.051800    0.329609  1.925254   \n",
       "47798            0.158033            0.167691  0.050922    0.322222  1.921524   \n",
       "47795            0.167691            0.158033  0.050922    0.303665  1.921524   \n",
       "47950            0.169447            0.170325  0.055312    0.326425  1.916484   \n",
       "47951            0.170325            0.169447  0.055312    0.324742  1.916484   \n",
       "47924            0.165057            0.171203  0.053556    0.324468  1.895226   \n",
       "47921            0.171203            0.165057  0.053556    0.312821  1.895226   \n",
       "47799            0.154522            0.174715  0.050922    0.329545  1.886192   \n",
       "47794            0.174715            0.154522  0.050922    0.291457  1.886192   \n",
       "47895            0.161545            0.171203  0.051800    0.320652  1.872938   \n",
       "47894            0.171203            0.161545  0.051800    0.302564  1.872938   \n",
       "47797            0.162423            0.169447  0.050922    0.313514  1.850217   \n",
       "47796            0.169447            0.162423  0.050922    0.300518  1.850217   \n",
       "\n",
       "       leverage  conviction  \n",
       "47948  0.027924    1.256500  \n",
       "47953  0.027924    1.250441  \n",
       "47949  0.027486    1.244581  \n",
       "47952  0.027486    1.248464  \n",
       "47853  0.025468    1.245830  \n",
       "47852  0.025468    1.216477  \n",
       "47908  0.024894    1.208490  \n",
       "47909  0.024894    1.236289  \n",
       "47798  0.024421    1.227997  \n",
       "47795  0.024421    1.209140  \n",
       "47950  0.026451    1.231748  \n",
       "47951  0.026451    1.229979  \n",
       "47924  0.025298    1.226881  \n",
       "47921  0.025298    1.215029  \n",
       "47799  0.023925    1.230934  \n",
       "47794  0.023925    1.193264  \n",
       "47895  0.024143    1.219989  \n",
       "47894  0.024143    1.202196  \n",
       "47797  0.023400    1.209861  \n",
       "47796  0.023400    1.197425  "
      ]
     },
     "execution_count": 47,
     "metadata": {},
     "output_type": "execute_result"
    }
   ],
   "source": [
    "basket.head(20)"
   ]
  },
  {
   "cell_type": "code",
   "execution_count": 46,
   "metadata": {},
   "outputs": [],
   "source": [
    "basket.to_csv(\"basket.csv\")"
   ]
  },
  {
   "cell_type": "code",
   "execution_count": null,
   "metadata": {},
   "outputs": [],
   "source": []
  }
 ],
 "metadata": {
  "kernelspec": {
   "display_name": "Python 3",
   "language": "python",
   "name": "python3"
  },
  "language_info": {
   "codemirror_mode": {
    "name": "ipython",
    "version": 3
   },
   "file_extension": ".py",
   "mimetype": "text/x-python",
   "name": "python",
   "nbconvert_exporter": "python",
   "pygments_lexer": "ipython3",
   "version": "3.8.3"
  }
 },
 "nbformat": 4,
 "nbformat_minor": 4
}
